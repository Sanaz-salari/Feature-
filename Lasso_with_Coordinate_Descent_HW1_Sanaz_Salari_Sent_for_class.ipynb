{
  "nbformat": 4,
  "nbformat_minor": 0,
  "metadata": {
    "colab": {
      "name": "Lasso with Coordinate Descent:HW1_Sanaz Salari_Sent for class.ipynb",
      "provenance": [],
      "authorship_tag": "ABX9TyP3h0lvcqpmh+r0nS5ZShwW",
      "include_colab_link": true
    },
    "kernelspec": {
      "name": "python3",
      "display_name": "Python 3"
    },
    "language_info": {
      "name": "python"
    }
  },
  "cells": [
    {
      "cell_type": "markdown",
      "metadata": {
        "id": "view-in-github",
        "colab_type": "text"
      },
      "source": [
        "<a href=\"https://colab.research.google.com/github/Sanaz-salari/Feature-Selection/blob/main/Lasso_with_Coordinate_Descent_HW1_Sanaz_Salari_Sent_for_class.ipynb\" target=\"_parent\"><img src=\"https://colab.research.google.com/assets/colab-badge.svg\" alt=\"Open In Colab\"/></a>"
      ]
    },
    {
      "cell_type": "code",
      "execution_count": null,
      "metadata": {
        "colab": {
          "base_uri": "https://localhost:8080/"
        },
        "id": "x0HrLk7pK2vv",
        "outputId": "83752037-25c8-4e4f-b9ba-48e492e8c175"
      },
      "outputs": [
        {
          "output_type": "stream",
          "name": "stderr",
          "text": [
            "/usr/local/lib/python3.7/dist-packages/numpy/core/_asarray.py:83: VisibleDeprecationWarning: Creating an ndarray from ragged nested sequences (which is a list-or-tuple of lists-or-tuples-or ndarrays with different lengths or shapes) is deprecated. If you meant to do this, you must specify 'dtype=object' when creating the ndarray\n",
            "  return array(a, dtype, copy=False, order=order)\n"
          ]
        },
        {
          "output_type": "stream",
          "name": "stdout",
          "text": [
            "number of while loop iteration is: 1\n",
            "diff is: 1.0\n",
            "nonzero is: 0\n",
            "number of while loop iteration is: 2\n",
            "diff is: 0.12064994393911559\n",
            "nonzero is: 7\n",
            "number of while loop iteration is: 3\n",
            "diff is: 0.3189376015630587\n",
            "nonzero is: 38\n",
            "number of while loop iteration is: 4\n",
            "diff is: 0.22866954792021854\n",
            "nonzero is: 59\n",
            "number of while loop iteration is: 5\n",
            "diff is: 0.15264546456153344\n",
            "nonzero is: 71\n",
            "number of while loop iteration is: 6\n",
            "diff is: 0.10301136691576451\n",
            "nonzero is: 83\n",
            "number of while loop iteration is: 7\n",
            "diff is: 0.07084578770754935\n",
            "nonzero is: 89\n",
            "number of while loop iteration is: 8\n",
            "diff is: 0.04768956559746662\n",
            "nonzero is: 92\n",
            "number of while loop iteration is: 9\n",
            "diff is: 0.03304495507578326\n",
            "nonzero is: 96\n",
            "number of while loop iteration is: 10\n",
            "diff is: 0.022302865861602433\n",
            "nonzero is: 96\n",
            "number of while loop iteration is: 11\n",
            "diff is: 0.014713558539464669\n",
            "nonzero is: 98\n",
            "number of while loop iteration is: 12\n",
            "diff is: 0.009790471283440821\n",
            "nonzero is: 98\n",
            "number of while loop iteration is: 13\n",
            "diff is: 0.006533153594654562\n",
            "nonzero is: 112\n",
            "number of while loop iteration is: 14\n",
            "diff is: 0.004288775185945004\n",
            "nonzero is: 194\n",
            "number of while loop iteration is: 15\n",
            "diff is: 0.002904590262796436\n",
            "nonzero is: 355\n",
            "number of while loop iteration is: 16\n",
            "diff is: 0.001990984511699101\n",
            "nonzero is: 536\n"
          ]
        }
      ],
      "source": [
        "from scipy.stats import norm\n",
        "import numpy as np\n",
        "import matplotlib.pyplot as plt\n",
        "import math\n",
        "import random\n",
        "\n",
        "###########################\n",
        "\n",
        "#Generate synthetic data:\n",
        "\n",
        "d = 1000\n",
        "k = 100\n",
        "n = 500\n",
        "\n",
        "###########################\n",
        "\n",
        "# Calculate W: [w1, w2, w3, ..., wk,..., wd] with shape 1*d\n",
        "W = [0]*d\n",
        "W_1 = [(j+1)/k for j in range(0,k)] \n",
        "W[0:len(W_1)]=W_1  \n",
        "W = np.array(W) \n",
        "W = W.reshape(d,1) \n",
        "\n",
        "\n",
        "###########################\n",
        "\n",
        "#Calculate X as a matrix with size n*d including xij elements: \n",
        "random.seed(1) \n",
        "X = np.random.normal(0, 1, (n,d)) \n",
        "\n",
        "###########################\n",
        "\n",
        "# Calculate Eps array with epsi elements\n",
        "Eps = np.random.normal(0,0.1,n)\n",
        "Eps = Eps.reshape(n,1) \n",
        "\n",
        "###########################\n",
        "\n",
        "# Calculate Y array with yi elements\n",
        "Y = X @ W + Eps \n",
        "len(Y)\n",
        "f = np.sum(Y)  \n",
        "b = 1/n * (f - np.sum(X @ W))   \n",
        "#Generate synthetic data\n",
        "#Ending \n",
        "\n",
        "\n",
        "############################################################\n",
        "\n",
        "############################################################\n",
        "\n",
        "# Lambda_max\n",
        "Lambda0 = np.zeros((d,1)) \n",
        "for k in range(0,d):\n",
        "  for i in range(0,n):\n",
        "    Lambda0[k] = X[i,k] * (Y[i] - ((1/n)*f)) + Lambda0[k]\n",
        "\n",
        "\n",
        "Lambda_middle= 2*np.abs(Lambda0) \n",
        "Lambda_max = np.amax(Lambda_middle) \n",
        "Lambda = Lambda_max\n",
        "\n",
        "\n",
        "##########################################################3\n",
        "\n",
        "# Coordinate descent algorithm  \n",
        "\n",
        "W2 = np.copy(W) \n",
        "W1 = np.zeros((d,1))\n",
        "diff = np.amax(np.abs(W2 - W1))\n",
        "delta = 0.002\n",
        "q = 0\n",
        "Lambda_val = np.array([])\n",
        "nonzero_val = np.array([]) \n",
        "W2_iter = [[]]\n",
        "W22 = W2.tolist() \n",
        "W2_iter.append(W22) \n",
        "W2_iter_new = np.delete(W2_iter,[0])\n",
        "\n",
        "\n",
        "##############################\n",
        "######################     While loop    #######################################\n",
        "\n",
        "while diff >= delta:\n",
        "  q = q + 1 \n",
        "  print('number of while loop iteration is:', q)\n",
        "  \n",
        "# Calculate A, C, W1\n",
        "\n",
        "  A = np.zeros((d,1)) \n",
        "  C = np.zeros((d,1)) \n",
        "  W1 = np.copy(W2) \n",
        "  eli = np.zeros((n,1))\n",
        "#################################### Inner for loops ################################## \n",
        "  for k in range(0,d):\n",
        "    \n",
        "    for i in range(0,n):\n",
        "      A[k] = 2 * (np.power(X[i,k], 2)) + A[k] \n",
        "      s = 0 \n",
        "      eli[i] = X[i,:]@W - X[i,k]*W[k]\n",
        "      C[k] = 2*((X[i,k]*(Y[i] - (b + eli[i])))) + C[k] \n",
        "    if C[k] < -1*Lambda:\n",
        "      W2[k] = (C[k] + Lambda)/A[k]\n",
        "    elif C[k] >= -1*Lambda and C[k] <= Lambda:\n",
        "      W2[k] = 0\n",
        "    else:\n",
        "      W2[k] = (C[k] - Lambda)/A[k]\n",
        "\n",
        "\n",
        "  # nonzero values\n",
        "  nonzero = np.count_nonzero(W2)\n",
        "  nonzero_val = np.append( nonzero_val, nonzero) \n",
        "\n",
        "  # Lambda value\n",
        "  Lambda_val = np.append( Lambda_val, Lambda) \n",
        "\n",
        "  # Append W2 to an array W2_iter after each running while loop\n",
        "  W22 = W2.tolist()\n",
        "  W2_iter.append(W22)\n",
        "\n",
        "  \n",
        "  Lambda =  Lambda/1.5\n",
        "  b = 1/n * (f - np.sum(X @ W2)) \n",
        "  \n",
        "  diff = np.amax(np.abs(W2 - W1))\n",
        "  \n",
        "  print('diff is:', diff)\n",
        "  print('nonzero is:', nonzero)\n",
        "  #print('Lambda_val is:', Lambda_val)\n",
        "  #print('nonzero_val is:', nonzero_val)\n",
        "# delta= diff+1\n",
        "\n",
        "\n"
      ]
    },
    {
      "cell_type": "code",
      "source": [
        "##############################################\n",
        "#Plot nonzero values vs. lambda:\n",
        "\n",
        "x = np.copy(Lambda_val)\n",
        "#x\n",
        "y = np.copy(nonzero_val)\n",
        "#y\n",
        "\n",
        "plt.xscale('log')\n",
        "plt.plot(x,y)\n",
        "plt.xlabel('Lambda') \n",
        "plt.ylabel('Number of nonzero values') \n",
        "plt.title('Change of Lambda vs nonzero values ', fontweight =\"bold\") "
      ],
      "metadata": {
        "colab": {
          "base_uri": "https://localhost:8080/",
          "height": 316
        },
        "id": "3RecbVsjLl4b",
        "outputId": "f5db3348-0c29-467a-c79f-2c4edde9fea1"
      },
      "execution_count": null,
      "outputs": [
        {
          "output_type": "execute_result",
          "data": {
            "text/plain": [
              "Text(0.5, 1.0, 'Change of Lambda vs nonzero values ')"
            ]
          },
          "metadata": {},
          "execution_count": 15
        },
        {
          "output_type": "display_data",
          "data": {
            "image/png": "[encoded data removed]",
            "text/plain": [
              "<Figure size 432x288 with 1 Axes>"
            ]
          },
          "metadata": {
            "needs_background": "light"
          }
        }
      ]
    },
    {
      "cell_type": "code",
      "source": [
        "#############################################\n",
        "\n",
        "# Plot FDR vs. TPR\n",
        "\n",
        "W2_iter_new = np.delete(W2_iter,[0])  \n",
        "FDR = np.zeros((1,q))\n",
        "TPR = np.zeros((1,q))\n",
        "k = 100\n",
        "d = 1000\n",
        "for h in range(0,q):\n",
        "  N = 0\n",
        "  W_hat = W2_iter_new[h]\n",
        "  #split W_hat to two parts: 0-(k-1), \n",
        "  W_hat1 = W_hat[0:k-1] #TPR\n",
        "  W_hat2 = W_hat[k:d] #FDR\n",
        "  nonzero1 = np.count_nonzero(W_hat1)\n",
        "  nonzero2 = np.count_nonzero(W_hat2) #FDR\n",
        "  TPR = np.append( TPR, nonzero1)\n",
        "  FDR = np.append( FDR, nonzero2)\n",
        "  N = N + 1\n",
        "\n",
        "FDR = np.divide(FDR, nonzero)\n",
        "TPR = TPR / k\n",
        "x1 = FDR\n",
        "#x\n",
        "y1 = TPR\n",
        "#y\n",
        "plt.scatter(x1,y1)\n",
        "plt.plot(x1,y1)\n",
        "plt.xlabel('FDR') \n",
        "plt.ylabel('TPR') \n",
        "plt.title('TPR vs FDR', fontweight =\"bold\") "
      ],
      "metadata": {
        "colab": {
          "base_uri": "https://localhost:8080/",
          "height": 367
        },
        "id": "hlHmIEZNLokQ",
        "outputId": "1b3c44d1-6f7a-4054-896e-07167e34f293"
      },
      "execution_count": null,
      "outputs": [
        {
          "output_type": "stream",
          "name": "stderr",
          "text": [
            "/usr/local/lib/python3.7/dist-packages/numpy/core/_asarray.py:83: VisibleDeprecationWarning: Creating an ndarray from ragged nested sequences (which is a list-or-tuple of lists-or-tuples-or ndarrays with different lengths or shapes) is deprecated. If you meant to do this, you must specify 'dtype=object' when creating the ndarray\n",
            "  return array(a, dtype, copy=False, order=order)\n"
          ]
        },
        {
          "output_type": "execute_result",
          "data": {
            "text/plain": [
              "Text(0.5, 1.0, 'TPR vs FDR')"
            ]
          },
          "metadata": {},
          "execution_count": 14
        },
        {
          "output_type": "display_data",
          "data": {
            "image/png": "[encoded data removed]",
            "text/plain": [
              "<Figure size 432x288 with 1 Axes>"
            ]
          },
          "metadata": {
            "needs_background": "light"
          }
        }
      ]
    }
  ]
}